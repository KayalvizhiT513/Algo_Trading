{
  "nbformat": 4,
  "nbformat_minor": 0,
  "metadata": {
    "colab": {
      "provenance": [],
      "authorship_tag": "ABX9TyMezxfLfukud1vQK+ExwgY5",
      "include_colab_link": true
    },
    "kernelspec": {
      "name": "python3",
      "display_name": "Python 3"
    },
    "language_info": {
      "name": "python"
    }
  },
  "cells": [
    {
      "cell_type": "markdown",
      "metadata": {
        "id": "view-in-github",
        "colab_type": "text"
      },
      "source": [
        "<a href=\"https://colab.research.google.com/github/KayalvizhiT513/Algo_Trading/blob/main/Problems_25Apr2025_Beta_Neutral_Convergence_Trade.ipynb\" target=\"_parent\"><img src=\"https://colab.research.google.com/assets/colab-badge.svg\" alt=\"Open In Colab\"/></a>"
      ]
    },
    {
      "cell_type": "markdown",
      "source": [
        "# Problem 1:\n",
        "\n",
        "Consider 2 portfolios, both are well diversified with zero unsystematic risk. The returns of both portfolios align with CAPM.\n",
        "\n",
        "**Portfolio A**:\n",
        "- Price: USD 100\n",
        "- Beta: 1.0\n",
        "- Return for the period (1 year) where there is mispricing: 8%\n",
        "\n",
        "**Portfolio B**:\n",
        "- Price: USD 110\n",
        "- Beta: 1.0\n",
        "- Return for the period (1 year) where there is mispricing: 12%\n",
        "\n",
        "For the last 1 year (period of mispricing), the fair return according to CAPM is 10% p.a.\n",
        "\n",
        "An event will happen in the next two days that will make sure that the mispricing is corrected. Assume a year has 365 days.\n",
        "\n",
        "---\n",
        "\n",
        "## Questions:\n",
        "\n",
        "1. **Which portfolio is undervalued, which one is overvalued?**\n",
        "\n",
        "2. **What will be the value of Portfolio A and Portfolio B after 2 days assuming convergence happens?**\n",
        "\n",
        "3. **Construct a beta neutral portfolio (zero beta) and dollar neutral (zero dollar investment) trade that will take advantage of the convergence.**\n",
        "\n",
        "4. **Why is this trade strategy better than just going long on the undervalued or just going short on the overvalued portfolio?**\n",
        "\n",
        "5. **Assuming that the transaction cost of the trade was USD 100, what’s the 2 day return?**\n",
        "\n",
        "6. **Let’s say there is a sudden market move in 2 days resulting in a steep drop in the market return. This results in the fair return to drop to 8% p.a. instead of 10% p.a. But the convergence does happen. Does the sudden market move impact the ability of the trade setup to benefit from the convergence? Is the trade still profitable given this sudden move?**\n"
      ],
      "metadata": {
        "id": "EACU646fB5F4"
      }
    },
    {
      "cell_type": "markdown",
      "source": [
        "# Answers:\n",
        "\n",
        "1. **Portfolio A is undervalued** and **Portfolio B is overvalued**, because the mispriced return of Portfolio A (8\\%) is **less** than the fair return (10\\%), and the mispriced return of Portfolio B (12\\%) is **greater** than the fair return (10\\%).\n"
      ],
      "metadata": {
        "id": "xA4aNnFYChJs"
      }
    },
    {
      "cell_type": "code",
      "execution_count": 27,
      "metadata": {
        "colab": {
          "base_uri": "https://localhost:8080/"
        },
        "id": "iY6UYbAMB4de",
        "outputId": "14c9a458-f7ac-403b-97ff-9bd971c49b3c"
      },
      "outputs": [
        {
          "output_type": "stream",
          "name": "stdout",
          "text": [
            "Value of Portfolio A after 2 days: 101.90505762510455\n",
            "Value of Portfolio B after 2 days: 108.0921504094859\n"
          ]
        }
      ],
      "source": [
        "# 2.\n",
        "fair_return = 0.10\n",
        "\n",
        "# Value of Portfolio A after 2 days\n",
        "value_PortfolioA = 100\n",
        "return_PortfolioA = 0.08\n",
        "beta_PortfolioA = 1.0\n",
        "\n",
        "initial_value_PortfolioA = value_PortfolioA/(1+return_PortfolioA)\n",
        "final_value_PortfolioA = initial_value_PortfolioA*(1+fair_return)**(367/365)\n",
        "print(f\"Value of Portfolio A after 2 days: {final_value_PortfolioA}\")\n",
        "\n",
        "# Value of Portfolio B after 2 days\n",
        "value_PortfolioB = 110\n",
        "return_PortfolioB = 0.12\n",
        "beta_PortfolioB = 1.0\n",
        "\n",
        "initial_value_PortfolioB = value_PortfolioB/(1+return_PortfolioB)\n",
        "final_value_PortfolioB = initial_value_PortfolioB*(1+fair_return)**(367/365)\n",
        "print(f\"Value of Portfolio B after 2 days: {final_value_PortfolioB}\")"
      ]
    },
    {
      "cell_type": "code",
      "source": [
        "# 3.\n",
        "\n",
        "# Beta neutral portfolio\n",
        "return_PortfolioC = -return_PortfolioA + return_PortfolioB\n",
        "print(f\"Return of Beta neutral portfolio: {return_PortfolioC}\")\n",
        "\n",
        "# Dollar neutral portfolio\n",
        "value_PortfolioC = -value_PortfolioA + value_PortfolioB\n",
        "print(f\"Value of Dollar neutral portfolio: {value_PortfolioC}\")\n",
        "\n",
        "initial_value_PortfolioC = value_PortfolioC/(1+return_PortfolioC)\n",
        "final_value_PortfolioC = initial_value_PortfolioC*(1+fair_return)**(367/365)\n",
        "print(f\"Value of Beta neutral portfolio after 2 days: {final_value_PortfolioC}\")\n"
      ],
      "metadata": {
        "id": "8OosgXQ-DviX",
        "colab": {
          "base_uri": "https://localhost:8080/"
        },
        "outputId": "459bfbc7-deca-4cb9-bc44-69093d8f1fc5"
      },
      "execution_count": 28,
      "outputs": [
        {
          "output_type": "stream",
          "name": "stdout",
          "text": [
            "Return of Beta neutral portfolio: 0.039999999999999994\n",
            "Value of Dollar neutral portfolio: 10\n",
            "Value of Beta neutral portfolio after 2 days: 10.58244829183778\n"
          ]
        }
      ]
    },
    {
      "cell_type": "code",
      "source": [
        "# 4.\n",
        "\n",
        "# just long portfolioA\n",
        "profitA = final_value_PortfolioA - value_PortfolioA\n",
        "print(f\"Profit of Portfolio A: {profitA}\")\n",
        "\n",
        "# just long portfolioB\n",
        "profitB = -final_value_PortfolioB + value_PortfolioB\n",
        "print(f\"Profit of Portfolio B: {profitB}\")"
      ],
      "metadata": {
        "colab": {
          "base_uri": "https://localhost:8080/"
        },
        "id": "MY552_JNfujB",
        "outputId": "61ab6a37-f38a-44d3-bffa-c86bff83c4ff"
      },
      "execution_count": 31,
      "outputs": [
        {
          "output_type": "stream",
          "name": "stdout",
          "text": [
            "Profit of Portfolio A: 1.905057625104547\n",
            "Profit of Portfolio B: 1.907849590514104\n"
          ]
        }
      ]
    },
    {
      "cell_type": "code",
      "source": [
        "# Profit when both long and short happens\n",
        "# final_value_PortfolioA - final_value_PortfolioB + value_PortfolioC\n",
        "profitC = (final_value_PortfolioA - value_PortfolioA) + (value_PortfolioB - final_value_PortfolioB)\n",
        "print(f\"Profit of Beta neutral portfolio: {profitC}\")"
      ],
      "metadata": {
        "colab": {
          "base_uri": "https://localhost:8080/"
        },
        "id": "5OtbMul5hn2P",
        "outputId": "f6dc3f37-ef01-4750-d1ef-cb6715e77c45"
      },
      "execution_count": 34,
      "outputs": [
        {
          "output_type": "stream",
          "name": "stdout",
          "text": [
            "Profit of Beta neutral portfolio: 3.812907215618651\n"
          ]
        }
      ]
    },
    {
      "cell_type": "code",
      "source": [
        "# 5.\n",
        "# 2 day return after deducting transaction cost\n",
        "transaction_cost = 100\n",
        "net_profit = profitC - transaction_cost\n",
        "\n",
        "invested = value_PortfolioC\n",
        "\n",
        "_2day_return_percent = (net_profit / invested) * 100\n",
        "print(f\"2-day return after transaction cost (%): {_2day_return_percent}\")"
      ],
      "metadata": {
        "colab": {
          "base_uri": "https://localhost:8080/"
        },
        "id": "epYrMmOjiLqX",
        "outputId": "620254cf-97ea-4e32-f4ee-a40e152968dd"
      },
      "execution_count": 37,
      "outputs": [
        {
          "output_type": "stream",
          "name": "stdout",
          "text": [
            "2-day return after transaction cost (%): -961.8709278438135\n"
          ]
        }
      ]
    },
    {
      "cell_type": "code",
      "source": [
        "def portfolio_trade_analysis(n_units):\n",
        "    # 2.\n",
        "    fair_return = 0.10\n",
        "\n",
        "    # Value of Portfolio A and B scaled by n_units\n",
        "    value_PortfolioA = 100 * n_units\n",
        "    return_PortfolioA = 0.08\n",
        "    beta_PortfolioA = 1.0\n",
        "\n",
        "    value_PortfolioB = 110 * n_units\n",
        "    return_PortfolioB = 0.12\n",
        "    beta_PortfolioB = 1.0\n",
        "\n",
        "    initial_value_PortfolioA = value_PortfolioA / (1 + return_PortfolioA)\n",
        "    final_value_PortfolioA = initial_value_PortfolioA * (1 + fair_return)**(367/365)\n",
        "    print(f\"Value of Portfolio A after 2 days: {final_value_PortfolioA}\")\n",
        "\n",
        "    initial_value_PortfolioB = value_PortfolioB / (1 + return_PortfolioB)\n",
        "    final_value_PortfolioB = initial_value_PortfolioB * (1 + fair_return)**(367/365)\n",
        "    print(f\"Value of Portfolio B after 2 days: {final_value_PortfolioB}\")\n",
        "\n",
        "    # 3.\n",
        "    # Beta neutral portfolio\n",
        "    return_PortfolioC = -return_PortfolioA + return_PortfolioB\n",
        "    print(f\"Return of Beta neutral portfolio: {return_PortfolioC}\")\n",
        "\n",
        "    # Dollar neutral portfolio\n",
        "    value_PortfolioC = -value_PortfolioA + value_PortfolioB\n",
        "    print(f\"Value of Dollar neutral portfolio: {value_PortfolioC}\")\n",
        "\n",
        "    initial_value_PortfolioC = value_PortfolioC / (1 + return_PortfolioC)\n",
        "    final_value_PortfolioC = initial_value_PortfolioC * (1 + fair_return)**(367/365)\n",
        "    print(f\"Value of Beta neutral portfolio after 2 days: {final_value_PortfolioC}\")\n",
        "\n",
        "    # 4.\n",
        "    # just long portfolioA\n",
        "    profitA = final_value_PortfolioA - value_PortfolioA\n",
        "    print(f\"Profit of Portfolio A: {profitA}\")\n",
        "\n",
        "    # just long portfolioB\n",
        "    profitB = -final_value_PortfolioB + value_PortfolioB\n",
        "    print(f\"Profit of Portfolio B: {profitB}\")\n",
        "\n",
        "    # Profit when both long and short happens\n",
        "    profitC = final_value_PortfolioA - final_value_PortfolioB + value_PortfolioC\n",
        "    print(f\"Profit of Beta neutral portfolio: {profitC}\")\n",
        "\n",
        "    # 5.\n",
        "    # 2 day return after deducting transaction cost\n",
        "    transaction_cost = 100\n",
        "    net_profit = profitC - transaction_cost\n",
        "\n",
        "    invested = value_PortfolioC\n",
        "\n",
        "    _2day_return_percent = (net_profit / invested) * 100\n",
        "    print(f\"2-day return after transaction cost (%): {_2day_return_percent}\")\n",
        "\n",
        "\n"
      ],
      "metadata": {
        "id": "iaWBmH1Li2Gp"
      },
      "execution_count": 38,
      "outputs": []
    },
    {
      "cell_type": "code",
      "source": [
        "portfolio_trade_analysis(1)     # for 1 unit\n"
      ],
      "metadata": {
        "colab": {
          "base_uri": "https://localhost:8080/"
        },
        "id": "l6w3McTS3GH6",
        "outputId": "1f86ffc3-4c49-4e21-ebe9-70e3b9b2aaa8"
      },
      "execution_count": 39,
      "outputs": [
        {
          "output_type": "stream",
          "name": "stdout",
          "text": [
            "Value of Portfolio A after 2 days: 101.90505762510455\n",
            "Value of Portfolio B after 2 days: 108.0921504094859\n",
            "Return of Beta neutral portfolio: 0.039999999999999994\n",
            "Value of Dollar neutral portfolio: 10\n",
            "Value of Beta neutral portfolio after 2 days: 10.58244829183778\n",
            "Profit of Portfolio A: 1.905057625104547\n",
            "Profit of Portfolio B: 1.907849590514104\n",
            "Profit of Beta neutral portfolio: 3.812907215618651\n",
            "2-day return after transaction cost (%): -961.8709278438135\n"
          ]
        }
      ]
    },
    {
      "cell_type": "code",
      "source": [
        "portfolio_trade_analysis(27)    # for 27 units"
      ],
      "metadata": {
        "colab": {
          "base_uri": "https://localhost:8080/"
        },
        "id": "yUncz02V45_Q",
        "outputId": "5d8af3e4-1351-4e69-8d0c-84e3fd1c9fdc"
      },
      "execution_count": 40,
      "outputs": [
        {
          "output_type": "stream",
          "name": "stdout",
          "text": [
            "Value of Portfolio A after 2 days: 2751.436555877823\n",
            "Value of Portfolio B after 2 days: 2918.4880610561195\n",
            "Return of Beta neutral portfolio: 0.039999999999999994\n",
            "Value of Dollar neutral portfolio: 270\n",
            "Value of Beta neutral portfolio after 2 days: 285.72610387962004\n",
            "Profit of Portfolio A: 51.43655587782314\n",
            "Profit of Portfolio B: 51.51193894388052\n",
            "Profit of Beta neutral portfolio: 102.94849482170366\n",
            "2-day return after transaction cost (%): 1.0920351191495044\n"
          ]
        }
      ]
    },
    {
      "cell_type": "code",
      "source": [
        "portfolio_trade_analysis(100)   # for 100 units"
      ],
      "metadata": {
        "colab": {
          "base_uri": "https://localhost:8080/"
        },
        "id": "xIuq0kgh47YS",
        "outputId": "8ad02dcd-a6f7-43ed-f34b-aa49055e95ab"
      },
      "execution_count": 41,
      "outputs": [
        {
          "output_type": "stream",
          "name": "stdout",
          "text": [
            "Value of Portfolio A after 2 days: 10190.505762510456\n",
            "Value of Portfolio B after 2 days: 10809.21504094859\n",
            "Return of Beta neutral portfolio: 0.039999999999999994\n",
            "Value of Dollar neutral portfolio: 1000\n",
            "Value of Beta neutral portfolio after 2 days: 1058.2448291837782\n",
            "Profit of Portfolio A: 190.5057625104564\n",
            "Profit of Portfolio B: 190.78495905141062\n",
            "Profit of Beta neutral portfolio: 381.29072156186703\n",
            "2-day return after transaction cost (%): 28.1290721561867\n"
          ]
        }
      ]
    },
    {
      "cell_type": "code",
      "source": [],
      "metadata": {
        "id": "mW-3qJZKCsmX"
      },
      "execution_count": null,
      "outputs": []
    }
  ]
}